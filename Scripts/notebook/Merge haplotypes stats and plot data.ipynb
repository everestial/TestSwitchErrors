{
 "cells": [
  {
   "cell_type": "code",
   "execution_count": 1,
   "metadata": {},
   "outputs": [],
   "source": [
    "#example \n",
    "import pandas as pd\n",
    "import os"
   ]
  },
  {
   "cell_type": "code",
   "execution_count": 3,
   "metadata": {},
   "outputs": [],
   "source": [
    "from phase_extender.hapstats import plot_stacked_haplotypes_variants, get_melted_df, plot_hist_one_chr_stacked, get_merged_metrices"
   ]
  },
  {
   "cell_type": "code",
   "execution_count": 5,
   "metadata": {},
   "outputs": [],
   "source": [
    "def merge_stats_files(initial_df_path, final_df_path, outputdir=None, return_df= False):\n",
    "    if outputdir is None:\n",
    "        outputdir = os.getcwd()\n",
    "    os.makedirs(outputdir, exist_ok=True)    \n",
    "\n",
    "    initial_hap_df = pd.read_csv(initial_df_path, sep='\\t')\n",
    "    final_hap_df = pd.read_csv(final_df_path, sep='\\t', )\n",
    "    concat_df = pd.concat([initial_hap_df, final_hap_df], ignore_index=True)\n",
    "    concat_df[\"stage\"] = [\"initial\", \"final\"]\n",
    "    concat_df.to_csv(outputdir+'/merged_stats.tsv', index=False, sep='\\t')\n",
    "    print(\"Merged successfully\")\n",
    "    if return_df:\n",
    "        return concat_df"
   ]
  },
  {
   "cell_type": "markdown",
   "metadata": {},
   "source": [
    "## For first iteration"
   ]
  },
  {
   "cell_type": "code",
   "execution_count": 6,
   "metadata": {},
   "outputs": [],
   "source": [
    "initial_df_path = '../../data/SetA/phased_NA12891_SetA_run01/initial_haplotype_stats_NA12891.txt'\n",
    "final_df_path = \"../../data/SetA/phased_NA12891_SetA_run01/final_haplotype_stats_NA12891.txt\"\n",
    "outputdir='../../data/plots/NA12891/setA/iter01'\n",
    "\n",
    "soi= 'NA12891'"
   ]
  },
  {
   "cell_type": "code",
   "execution_count": 7,
   "metadata": {},
   "outputs": [
    {
     "name": "stdout",
     "output_type": "stream",
     "text": [
      "Merged successfully\n"
     ]
    },
    {
     "data": {
      "text/html": [
       "<div>\n",
       "<style scoped>\n",
       "    .dataframe tbody tr th:only-of-type {\n",
       "        vertical-align: middle;\n",
       "    }\n",
       "\n",
       "    .dataframe tbody tr th {\n",
       "        vertical-align: top;\n",
       "    }\n",
       "\n",
       "    .dataframe thead th {\n",
       "        text-align: right;\n",
       "    }\n",
       "</style>\n",
       "<table border=\"1\" class=\"dataframe\">\n",
       "  <thead>\n",
       "    <tr style=\"text-align: right;\">\n",
       "      <th></th>\n",
       "      <th>CHROM</th>\n",
       "      <th>NA12891:PI</th>\n",
       "      <th>num_Vars_by_PI</th>\n",
       "      <th>range_of_PI</th>\n",
       "      <th>total_haplotypes</th>\n",
       "      <th>total_Vars</th>\n",
       "      <th>stage</th>\n",
       "    </tr>\n",
       "  </thead>\n",
       "  <tbody>\n",
       "    <tr>\n",
       "      <th>0</th>\n",
       "      <td>20</td>\n",
       "      <td>1.0,2.0,3.0,4.0,5.0,6.0,7.0,8.0,9.0,10.0,11.0,...</td>\n",
       "      <td>5,6,3,3,3,4,5,3,4,8,7,4,5,7,3,4,6,3,4,5,5,9,5,...</td>\n",
       "      <td>18860,39198,6180,11396,15999,1754,11424,1913,1...</td>\n",
       "      <td>1933</td>\n",
       "      <td>9666</td>\n",
       "      <td>initial</td>\n",
       "    </tr>\n",
       "    <tr>\n",
       "      <th>1</th>\n",
       "      <td>20</td>\n",
       "      <td>1.0,5.0,9.0,12.0,13.0,17.0,18.0,20.0,21.0,22.0...</td>\n",
       "      <td>17,15,19,4,19,6,7,5,5,27,22,5,51,8,5,34,5,4,14...</td>\n",
       "      <td>83618,40234,56755,57384,147745,25885,26293,271...</td>\n",
       "      <td>391</td>\n",
       "      <td>9666</td>\n",
       "      <td>final</td>\n",
       "    </tr>\n",
       "  </tbody>\n",
       "</table>\n",
       "</div>"
      ],
      "text/plain": [
       "   CHROM                                         NA12891:PI  \\\n",
       "0     20  1.0,2.0,3.0,4.0,5.0,6.0,7.0,8.0,9.0,10.0,11.0,...   \n",
       "1     20  1.0,5.0,9.0,12.0,13.0,17.0,18.0,20.0,21.0,22.0...   \n",
       "\n",
       "                                      num_Vars_by_PI  \\\n",
       "0  5,6,3,3,3,4,5,3,4,8,7,4,5,7,3,4,6,3,4,5,5,9,5,...   \n",
       "1  17,15,19,4,19,6,7,5,5,27,22,5,51,8,5,34,5,4,14...   \n",
       "\n",
       "                                         range_of_PI  total_haplotypes  \\\n",
       "0  18860,39198,6180,11396,15999,1754,11424,1913,1...              1933   \n",
       "1  83618,40234,56755,57384,147745,25885,26293,271...               391   \n",
       "\n",
       "   total_Vars    stage  \n",
       "0        9666  initial  \n",
       "1        9666    final  "
      ]
     },
     "execution_count": 7,
     "metadata": {},
     "output_type": "execute_result"
    }
   ],
   "source": [
    "iter1_df = merge_stats_files(initial_df_path, final_df_path, outputdir, return_df=True)\n",
    "iter1_df"
   ]
  },
  {
   "cell_type": "markdown",
   "metadata": {},
   "source": [
    "## For second iteration"
   ]
  },
  {
   "cell_type": "code",
   "execution_count": 8,
   "metadata": {},
   "outputs": [],
   "source": [
    "# For first iteration\n",
    "# soi='MA625'\n",
    "initial_df_path2 = '../../data/SetB/phased_NA12891_SetB_run01/initial_haplotype_stats_NA12891.txt'\n",
    "final_df_path2 = \"../../data/SetB/phased_NA12891_SetB_run01/final_haplotype_stats_NA12891.txt\"\n",
    "outputdir2='../../data/plots/NA12891/setB/iter01'\n",
    "\n",
    "soi= 'NA12891'"
   ]
  },
  {
   "cell_type": "code",
   "execution_count": 9,
   "metadata": {},
   "outputs": [
    {
     "name": "stdout",
     "output_type": "stream",
     "text": [
      "Merged successfully\n"
     ]
    },
    {
     "data": {
      "text/html": [
       "<div>\n",
       "<style scoped>\n",
       "    .dataframe tbody tr th:only-of-type {\n",
       "        vertical-align: middle;\n",
       "    }\n",
       "\n",
       "    .dataframe tbody tr th {\n",
       "        vertical-align: top;\n",
       "    }\n",
       "\n",
       "    .dataframe thead th {\n",
       "        text-align: right;\n",
       "    }\n",
       "</style>\n",
       "<table border=\"1\" class=\"dataframe\">\n",
       "  <thead>\n",
       "    <tr style=\"text-align: right;\">\n",
       "      <th></th>\n",
       "      <th>CHROM</th>\n",
       "      <th>NA12891:PI</th>\n",
       "      <th>num_Vars_by_PI</th>\n",
       "      <th>range_of_PI</th>\n",
       "      <th>total_haplotypes</th>\n",
       "      <th>total_Vars</th>\n",
       "      <th>stage</th>\n",
       "    </tr>\n",
       "  </thead>\n",
       "  <tbody>\n",
       "    <tr>\n",
       "      <th>0</th>\n",
       "      <td>20</td>\n",
       "      <td>1.0,2.0,3.0,4.0,5.0,6.0,7.0,8.0,9.0,10.0,11.0,...</td>\n",
       "      <td>5,6,3,3,3,4,5,3,4,8,7,4,5,7,3,4,6,3,4,5,5,9,5,...</td>\n",
       "      <td>18860,39198,6180,11396,15999,1754,11424,1913,1...</td>\n",
       "      <td>1933</td>\n",
       "      <td>9666</td>\n",
       "      <td>initial</td>\n",
       "    </tr>\n",
       "    <tr>\n",
       "      <th>1</th>\n",
       "      <td>20</td>\n",
       "      <td>1.0,5.0,9.0,12.0,13.0,17.0,20.0,21.0,22.0,24.0...</td>\n",
       "      <td>17,15,19,4,19,13,5,5,14,7,6,6,4,17,22,5,61,15,...</td>\n",
       "      <td>83618,40234,56755,57384,147745,83182,27164,476...</td>\n",
       "      <td>207</td>\n",
       "      <td>9666</td>\n",
       "      <td>final</td>\n",
       "    </tr>\n",
       "  </tbody>\n",
       "</table>\n",
       "</div>"
      ],
      "text/plain": [
       "   CHROM                                         NA12891:PI  \\\n",
       "0     20  1.0,2.0,3.0,4.0,5.0,6.0,7.0,8.0,9.0,10.0,11.0,...   \n",
       "1     20  1.0,5.0,9.0,12.0,13.0,17.0,20.0,21.0,22.0,24.0...   \n",
       "\n",
       "                                      num_Vars_by_PI  \\\n",
       "0  5,6,3,3,3,4,5,3,4,8,7,4,5,7,3,4,6,3,4,5,5,9,5,...   \n",
       "1  17,15,19,4,19,13,5,5,14,7,6,6,4,17,22,5,61,15,...   \n",
       "\n",
       "                                         range_of_PI  total_haplotypes  \\\n",
       "0  18860,39198,6180,11396,15999,1754,11424,1913,1...              1933   \n",
       "1  83618,40234,56755,57384,147745,83182,27164,476...               207   \n",
       "\n",
       "   total_Vars    stage  \n",
       "0        9666  initial  \n",
       "1        9666    final  "
      ]
     },
     "execution_count": 9,
     "metadata": {},
     "output_type": "execute_result"
    }
   ],
   "source": [
    "iter2_df = merge_stats_files(initial_df_path2, final_df_path2, outputdir2, return_df=True)\n",
    "iter2_df"
   ]
  },
  {
   "cell_type": "code",
   "execution_count": null,
   "metadata": {},
   "outputs": [],
   "source": []
  },
  {
   "cell_type": "markdown",
   "metadata": {},
   "source": [
    "## Now merged stats from two iteration to reproduce results."
   ]
  },
  {
   "cell_type": "code",
   "execution_count": 13,
   "metadata": {},
   "outputs": [],
   "source": [
    "path1 = outputdir+ '/merged_stats.tsv'\n",
    "path2 = outputdir2+ '/merged_stats.tsv'\n"
   ]
  },
  {
   "cell_type": "code",
   "execution_count": 16,
   "metadata": {},
   "outputs": [
    {
     "data": {
      "text/html": [
       "<div>\n",
       "<style scoped>\n",
       "    .dataframe tbody tr th:only-of-type {\n",
       "        vertical-align: middle;\n",
       "    }\n",
       "\n",
       "    .dataframe tbody tr th {\n",
       "        vertical-align: top;\n",
       "    }\n",
       "\n",
       "    .dataframe thead th {\n",
       "        text-align: right;\n",
       "    }\n",
       "</style>\n",
       "<table border=\"1\" class=\"dataframe\">\n",
       "  <thead>\n",
       "    <tr style=\"text-align: right;\">\n",
       "      <th></th>\n",
       "      <th>CHROM</th>\n",
       "      <th>NA12891:PI</th>\n",
       "      <th>num_Vars_by_PI</th>\n",
       "      <th>range_of_PI</th>\n",
       "      <th>total_haplotypes</th>\n",
       "      <th>total_Vars</th>\n",
       "      <th>stage</th>\n",
       "    </tr>\n",
       "  </thead>\n",
       "  <tbody>\n",
       "    <tr>\n",
       "      <th>0</th>\n",
       "      <td>20</td>\n",
       "      <td>1.0,2.0,3.0,4.0,5.0,6.0,7.0,8.0,9.0,10.0,11.0,...</td>\n",
       "      <td>5,6,3,3,3,4,5,3,4,8,7,4,5,7,3,4,6,3,4,5,5,9,5,...</td>\n",
       "      <td>18860,39198,6180,11396,15999,1754,11424,1913,1...</td>\n",
       "      <td>1933</td>\n",
       "      <td>9666</td>\n",
       "      <td>initial</td>\n",
       "    </tr>\n",
       "    <tr>\n",
       "      <th>1</th>\n",
       "      <td>20</td>\n",
       "      <td>1.0,5.0,9.0,12.0,13.0,17.0,18.0,20.0,21.0,22.0...</td>\n",
       "      <td>17,15,19,4,19,6,7,5,5,27,22,5,51,8,5,34,5,4,14...</td>\n",
       "      <td>83618,40234,56755,57384,147745,25885,26293,271...</td>\n",
       "      <td>391</td>\n",
       "      <td>9666</td>\n",
       "      <td>final</td>\n",
       "    </tr>\n",
       "    <tr>\n",
       "      <th>3</th>\n",
       "      <td>20</td>\n",
       "      <td>1.0,5.0,9.0,12.0,13.0,17.0,20.0,21.0,22.0,24.0...</td>\n",
       "      <td>17,15,19,4,19,13,5,5,14,7,6,6,4,17,22,5,61,15,...</td>\n",
       "      <td>83618,40234,56755,57384,147745,83182,27164,476...</td>\n",
       "      <td>207</td>\n",
       "      <td>9666</td>\n",
       "      <td>final</td>\n",
       "    </tr>\n",
       "  </tbody>\n",
       "</table>\n",
       "</div>"
      ],
      "text/plain": [
       "   CHROM                                         NA12891:PI  \\\n",
       "0     20  1.0,2.0,3.0,4.0,5.0,6.0,7.0,8.0,9.0,10.0,11.0,...   \n",
       "1     20  1.0,5.0,9.0,12.0,13.0,17.0,18.0,20.0,21.0,22.0...   \n",
       "3     20  1.0,5.0,9.0,12.0,13.0,17.0,20.0,21.0,22.0,24.0...   \n",
       "\n",
       "                                      num_Vars_by_PI  \\\n",
       "0  5,6,3,3,3,4,5,3,4,8,7,4,5,7,3,4,6,3,4,5,5,9,5,...   \n",
       "1  17,15,19,4,19,6,7,5,5,27,22,5,51,8,5,34,5,4,14...   \n",
       "3  17,15,19,4,19,13,5,5,14,7,6,6,4,17,22,5,61,15,...   \n",
       "\n",
       "                                         range_of_PI  total_haplotypes  \\\n",
       "0  18860,39198,6180,11396,15999,1754,11424,1913,1...              1933   \n",
       "1  83618,40234,56755,57384,147745,25885,26293,271...               391   \n",
       "3  83618,40234,56755,57384,147745,83182,27164,476...               207   \n",
       "\n",
       "   total_Vars    stage  \n",
       "0        9666  initial  \n",
       "1        9666    final  \n",
       "3        9666    final  "
      ]
     },
     "execution_count": 16,
     "metadata": {},
     "output_type": "execute_result"
    }
   ],
   "source": [
    "df1 = pd.read_csv(path1, sep='\\t')\n",
    "df2 = pd.read_csv(path2, sep='\\t')\n",
    "\n",
    "merged = pd.concat([df1, df2], ignore_index=True)\n",
    "# merged['stage'] = ['initial', 'iteration01', 'iteration01', 'iteration02']\n",
    "merged= merged.drop_duplicates()\n",
    "\n",
    "merged"
   ]
  },
  {
   "cell_type": "code",
   "execution_count": 17,
   "metadata": {},
   "outputs": [
    {
     "data": {
      "text/html": [
       "<div>\n",
       "<style scoped>\n",
       "    .dataframe tbody tr th:only-of-type {\n",
       "        vertical-align: middle;\n",
       "    }\n",
       "\n",
       "    .dataframe tbody tr th {\n",
       "        vertical-align: top;\n",
       "    }\n",
       "\n",
       "    .dataframe thead th {\n",
       "        text-align: right;\n",
       "    }\n",
       "</style>\n",
       "<table border=\"1\" class=\"dataframe\">\n",
       "  <thead>\n",
       "    <tr style=\"text-align: right;\">\n",
       "      <th></th>\n",
       "      <th>CHROM</th>\n",
       "      <th>NA12891:PI</th>\n",
       "      <th>num_Vars_by_PI</th>\n",
       "      <th>range_of_PI</th>\n",
       "      <th>total_haplotypes</th>\n",
       "      <th>total_Vars</th>\n",
       "      <th>stage</th>\n",
       "    </tr>\n",
       "  </thead>\n",
       "  <tbody>\n",
       "    <tr>\n",
       "      <th>0</th>\n",
       "      <td>20</td>\n",
       "      <td>1.0,2.0,3.0,4.0,5.0,6.0,7.0,8.0,9.0,10.0,11.0,...</td>\n",
       "      <td>5,6,3,3,3,4,5,3,4,8,7,4,5,7,3,4,6,3,4,5,5,9,5,...</td>\n",
       "      <td>18860,39198,6180,11396,15999,1754,11424,1913,1...</td>\n",
       "      <td>1933</td>\n",
       "      <td>9666</td>\n",
       "      <td>initial</td>\n",
       "    </tr>\n",
       "    <tr>\n",
       "      <th>1</th>\n",
       "      <td>20</td>\n",
       "      <td>1.0,5.0,9.0,12.0,13.0,17.0,18.0,20.0,21.0,22.0...</td>\n",
       "      <td>17,15,19,4,19,6,7,5,5,27,22,5,51,8,5,34,5,4,14...</td>\n",
       "      <td>83618,40234,56755,57384,147745,25885,26293,271...</td>\n",
       "      <td>391</td>\n",
       "      <td>9666</td>\n",
       "      <td>iteration01</td>\n",
       "    </tr>\n",
       "    <tr>\n",
       "      <th>3</th>\n",
       "      <td>20</td>\n",
       "      <td>1.0,5.0,9.0,12.0,13.0,17.0,20.0,21.0,22.0,24.0...</td>\n",
       "      <td>17,15,19,4,19,13,5,5,14,7,6,6,4,17,22,5,61,15,...</td>\n",
       "      <td>83618,40234,56755,57384,147745,83182,27164,476...</td>\n",
       "      <td>207</td>\n",
       "      <td>9666</td>\n",
       "      <td>iteration02</td>\n",
       "    </tr>\n",
       "  </tbody>\n",
       "</table>\n",
       "</div>"
      ],
      "text/plain": [
       "   CHROM                                         NA12891:PI  \\\n",
       "0     20  1.0,2.0,3.0,4.0,5.0,6.0,7.0,8.0,9.0,10.0,11.0,...   \n",
       "1     20  1.0,5.0,9.0,12.0,13.0,17.0,18.0,20.0,21.0,22.0...   \n",
       "3     20  1.0,5.0,9.0,12.0,13.0,17.0,20.0,21.0,22.0,24.0...   \n",
       "\n",
       "                                      num_Vars_by_PI  \\\n",
       "0  5,6,3,3,3,4,5,3,4,8,7,4,5,7,3,4,6,3,4,5,5,9,5,...   \n",
       "1  17,15,19,4,19,6,7,5,5,27,22,5,51,8,5,34,5,4,14...   \n",
       "3  17,15,19,4,19,13,5,5,14,7,6,6,4,17,22,5,61,15,...   \n",
       "\n",
       "                                         range_of_PI  total_haplotypes  \\\n",
       "0  18860,39198,6180,11396,15999,1754,11424,1913,1...              1933   \n",
       "1  83618,40234,56755,57384,147745,25885,26293,271...               391   \n",
       "3  83618,40234,56755,57384,147745,83182,27164,476...               207   \n",
       "\n",
       "   total_Vars        stage  \n",
       "0        9666      initial  \n",
       "1        9666  iteration01  \n",
       "3        9666  iteration02  "
      ]
     },
     "execution_count": 17,
     "metadata": {},
     "output_type": "execute_result"
    }
   ],
   "source": [
    "merged = pd.concat([iter1_df, iter2_df], ignore_index=True)\n",
    "merged= merged.drop_duplicates()\n",
    "merged['stage'] = ['initial', 'iteration01',  'iteration02']\n",
    "merged"
   ]
  },
  {
   "cell_type": "code",
   "execution_count": 19,
   "metadata": {},
   "outputs": [
    {
     "data": {
      "text/html": [
       "<div>\n",
       "<style scoped>\n",
       "    .dataframe tbody tr th:only-of-type {\n",
       "        vertical-align: middle;\n",
       "    }\n",
       "\n",
       "    .dataframe tbody tr th {\n",
       "        vertical-align: top;\n",
       "    }\n",
       "\n",
       "    .dataframe thead th {\n",
       "        text-align: right;\n",
       "    }\n",
       "</style>\n",
       "<table border=\"1\" class=\"dataframe\">\n",
       "  <thead>\n",
       "    <tr style=\"text-align: right;\">\n",
       "      <th></th>\n",
       "      <th>CHROM</th>\n",
       "      <th>NA12891:PI</th>\n",
       "      <th>num_Vars_by_PI</th>\n",
       "      <th>range_of_PI</th>\n",
       "      <th>total_haplotypes</th>\n",
       "      <th>total_Vars</th>\n",
       "      <th>stage</th>\n",
       "    </tr>\n",
       "  </thead>\n",
       "  <tbody>\n",
       "    <tr>\n",
       "      <th>0</th>\n",
       "      <td>20</td>\n",
       "      <td>1.0,2.0,3.0,4.0,5.0,6.0,7.0,8.0,9.0,10.0,11.0,...</td>\n",
       "      <td>5,6,3,3,3,4,5,3,4,8,7,4,5,7,3,4,6,3,4,5,5,9,5,...</td>\n",
       "      <td>18860,39198,6180,11396,15999,1754,11424,1913,1...</td>\n",
       "      <td>1933</td>\n",
       "      <td>9666</td>\n",
       "      <td>initial</td>\n",
       "    </tr>\n",
       "    <tr>\n",
       "      <th>1</th>\n",
       "      <td>20</td>\n",
       "      <td>1.0,5.0,9.0,12.0,13.0,17.0,18.0,20.0,21.0,22.0...</td>\n",
       "      <td>17,15,19,4,19,6,7,5,5,27,22,5,51,8,5,34,5,4,14...</td>\n",
       "      <td>83618,40234,56755,57384,147745,25885,26293,271...</td>\n",
       "      <td>391</td>\n",
       "      <td>9666</td>\n",
       "      <td>iteration01</td>\n",
       "    </tr>\n",
       "    <tr>\n",
       "      <th>3</th>\n",
       "      <td>20</td>\n",
       "      <td>1.0,5.0,9.0,12.0,13.0,17.0,20.0,21.0,22.0,24.0...</td>\n",
       "      <td>17,15,19,4,19,13,5,5,14,7,6,6,4,17,22,5,61,15,...</td>\n",
       "      <td>83618,40234,56755,57384,147745,83182,27164,476...</td>\n",
       "      <td>207</td>\n",
       "      <td>9666</td>\n",
       "      <td>iteration02</td>\n",
       "    </tr>\n",
       "  </tbody>\n",
       "</table>\n",
       "</div>"
      ],
      "text/plain": [
       "   CHROM                                         NA12891:PI  \\\n",
       "0     20  1.0,2.0,3.0,4.0,5.0,6.0,7.0,8.0,9.0,10.0,11.0,...   \n",
       "1     20  1.0,5.0,9.0,12.0,13.0,17.0,18.0,20.0,21.0,22.0...   \n",
       "3     20  1.0,5.0,9.0,12.0,13.0,17.0,20.0,21.0,22.0,24.0...   \n",
       "\n",
       "                                      num_Vars_by_PI  \\\n",
       "0  5,6,3,3,3,4,5,3,4,8,7,4,5,7,3,4,6,3,4,5,5,9,5,...   \n",
       "1  17,15,19,4,19,6,7,5,5,27,22,5,51,8,5,34,5,4,14...   \n",
       "3  17,15,19,4,19,13,5,5,14,7,6,6,4,17,22,5,61,15,...   \n",
       "\n",
       "                                         range_of_PI  total_haplotypes  \\\n",
       "0  18860,39198,6180,11396,15999,1754,11424,1913,1...              1933   \n",
       "1  83618,40234,56755,57384,147745,25885,26293,271...               391   \n",
       "3  83618,40234,56755,57384,147745,83182,27164,476...               207   \n",
       "\n",
       "   total_Vars        stage  \n",
       "0        9666      initial  \n",
       "1        9666  iteration01  \n",
       "3        9666  iteration02  "
      ]
     },
     "execution_count": 19,
     "metadata": {},
     "output_type": "execute_result"
    }
   ],
   "source": [
    "merged"
   ]
  },
  {
   "cell_type": "code",
   "execution_count": 20,
   "metadata": {},
   "outputs": [
    {
     "ename": "NameError",
     "evalue": "name 'merged' is not defined",
     "output_type": "error",
     "traceback": [
      "\u001b[0;31m---------------------------------------------------------------------------\u001b[0m",
      "\u001b[0;31mNameError\u001b[0m                                 Traceback (most recent call last)",
      "\u001b[1;32m/Users/bhuwanaryal/Desktop/projects/bioinformatics/TestSwitchErrors/Scripts/notebook/Merge haplotypes stats and plot data.ipynb Cell 16'\u001b[0m in \u001b[0;36m<module>\u001b[0;34m\u001b[0m\n\u001b[0;32m----> <a href='vscode-notebook-cell:/Users/bhuwanaryal/Desktop/projects/bioinformatics/TestSwitchErrors/Scripts/notebook/Merge%20haplotypes%20stats%20and%20plot%20data.ipynb#ch0000011?line=0'>1</a>\u001b[0m plot_stacked_haplotypes_variants(merged_df\u001b[39m=\u001b[39;49mmerged)\n",
      "File \u001b[0;32m~/Desktop/projects/bioinformatics/phase-Extender/phase_extender/hapstats.py:260\u001b[0m, in \u001b[0;36mplot_stacked_haplotypes_variants\u001b[0;34m(merged_df, outputdir, show_plot)\u001b[0m\n\u001b[1;32m    <a href='file:///Users/bhuwanaryal/Desktop/projects/bioinformatics/phase-Extender/phase_extender/hapstats.py?line=257'>258</a>\u001b[0m fig, axs \u001b[39m=\u001b[39m plt\u001b[39m.\u001b[39msubplots(ncols\u001b[39m=\u001b[39m\u001b[39m2\u001b[39m, figsize\u001b[39m=\u001b[39m(\u001b[39m12\u001b[39m,\u001b[39m6\u001b[39m), gridspec_kw\u001b[39m=\u001b[39m{\u001b[39m'\u001b[39m\u001b[39mwidth_ratios\u001b[39m\u001b[39m'\u001b[39m: [\u001b[39m3\u001b[39m, \u001b[39m1\u001b[39m]})\n\u001b[1;32m    <a href='file:///Users/bhuwanaryal/Desktop/projects/bioinformatics/phase-Extender/phase_extender/hapstats.py?line=258'>259</a>\u001b[0m \u001b[39m# axs.autoscale(enable=True) \u001b[39;00m\n\u001b[0;32m--> <a href='file:///Users/bhuwanaryal/Desktop/projects/bioinformatics/phase-Extender/phase_extender/hapstats.py?line=259'>260</a>\u001b[0m g \u001b[39m=\u001b[39msns\u001b[39m.\u001b[39mbarplot(y \u001b[39m=\u001b[39m \u001b[39m'\u001b[39m\u001b[39mtotal_Vars\u001b[39m\u001b[39m'\u001b[39m, data\u001b[39m=\u001b[39mmerged,x\u001b[39m=\u001b[39m\u001b[39m'\u001b[39m\u001b[39mCHROM\u001b[39m\u001b[39m'\u001b[39m,color\u001b[39m=\u001b[39m\u001b[39m'\u001b[39m\u001b[39m#FFBD33\u001b[39m\u001b[39m'\u001b[39m, ax\u001b[39m=\u001b[39m axs[\u001b[39m1\u001b[39m]\u001b[39m.\u001b[39mtwinx())\n\u001b[1;32m    <a href='file:///Users/bhuwanaryal/Desktop/projects/bioinformatics/phase-Extender/phase_extender/hapstats.py?line=260'>261</a>\u001b[0m \u001b[39m# g.set(yticklabels=[])\u001b[39;00m\n\u001b[1;32m    <a href='file:///Users/bhuwanaryal/Desktop/projects/bioinformatics/phase-Extender/phase_extender/hapstats.py?line=261'>262</a>\u001b[0m \u001b[39m# ax[1].set_y_axis('')\u001b[39;00m\n\u001b[1;32m    <a href='file:///Users/bhuwanaryal/Desktop/projects/bioinformatics/phase-Extender/phase_extender/hapstats.py?line=262'>263</a>\u001b[0m sns\u001b[39m.\u001b[39mbarplot(y \u001b[39m=\u001b[39m \u001b[39m'\u001b[39m\u001b[39mtotal_haplotypes\u001b[39m\u001b[39m'\u001b[39m, data\u001b[39m=\u001b[39mmerged, x\u001b[39m=\u001b[39m\u001b[39m'\u001b[39m\u001b[39mCHROM\u001b[39m\u001b[39m'\u001b[39m, hue\u001b[39m=\u001b[39m \u001b[39m'\u001b[39m\u001b[39mstage\u001b[39m\u001b[39m'\u001b[39m, ax\u001b[39m=\u001b[39m axs[\u001b[39m0\u001b[39m])\n",
      "\u001b[0;31mNameError\u001b[0m: name 'merged' is not defined"
     ]
    },
    {
     "data": {
      "image/png": "[encoded data removed]",
      "text/plain": [
       "<Figure size 864x432 with 2 Axes>"
      ]
     },
     "metadata": {},
     "output_type": "display_data"
    }
   ],
   "source": [
    "plot_stacked_haplotypes_variants(merged_df=merged)"
   ]
  },
  {
   "cell_type": "code",
   "execution_count": 21,
   "metadata": {},
   "outputs": [],
   "source": [
    "genomic_dist = get_melted_df(merged, col_name= 'range_of_PI')"
   ]
  },
  {
   "cell_type": "code",
   "execution_count": 22,
   "metadata": {},
   "outputs": [
    {
     "data": {
      "image/png": "[encoded data removed]",
      "text/plain": [
       "<Figure size 443.125x360 with 1 Axes>"
      ]
     },
     "metadata": {},
     "output_type": "display_data"
    }
   ],
   "source": [
    "plot_hist_one_chr_stacked(genomic_dist, hist_by=\"range_of_PI\",show_plot=True, logscale_y=10, logscale_x=10)"
   ]
  },
  {
   "cell_type": "code",
   "execution_count": 23,
   "metadata": {},
   "outputs": [
    {
     "data": {
      "image/png": "[encoded data removed]",
      "text/plain": [
       "<Figure size 443.125x360 with 1 Axes>"
      ]
     },
     "metadata": {},
     "output_type": "display_data"
    }
   ],
   "source": [
    "plot_hist_one_chr_stacked(genomic_dist, hist_by=\"range_of_PI\",show_plot=True, logscale_y=2, logscale_x=2)"
   ]
  },
  {
   "cell_type": "code",
   "execution_count": 24,
   "metadata": {},
   "outputs": [],
   "source": [
    "num_vars = get_melted_df(merged, col_name = \"num_Vars_by_PI\")"
   ]
  },
  {
   "cell_type": "code",
   "execution_count": 26,
   "metadata": {},
   "outputs": [
    {
     "data": {
      "image/png": "[encoded data removed]",
      "text/plain": [
       "<Figure size 443.125x360 with 1 Axes>"
      ]
     },
     "metadata": {},
     "output_type": "display_data"
    }
   ],
   "source": [
    "plot_hist_one_chr_stacked(num_vars,hist_by= \"num_Vars_by_PI\",logscale_y=2, logscale_x=2, show_plot=True)\n"
   ]
  },
  {
   "cell_type": "code",
   "execution_count": 27,
   "metadata": {},
   "outputs": [
    {
     "data": {
      "image/png": "[encoded data removed]",
      "text/plain": [
       "<Figure size 443.125x360 with 1 Axes>"
      ]
     },
     "metadata": {},
     "output_type": "display_data"
    }
   ],
   "source": [
    "plot_hist_one_chr_stacked(num_vars,hist_by= \"num_Vars_by_PI\",logscale_y=10, logscale_x=10, show_plot=True)\n"
   ]
  },
  {
   "cell_type": "code",
   "execution_count": 28,
   "metadata": {},
   "outputs": [
    {
     "data": {
      "text/html": [
       "<div>\n",
       "<style scoped>\n",
       "    .dataframe tbody tr th:only-of-type {\n",
       "        vertical-align: middle;\n",
       "    }\n",
       "\n",
       "    .dataframe tbody tr th {\n",
       "        vertical-align: top;\n",
       "    }\n",
       "\n",
       "    .dataframe thead th {\n",
       "        text-align: right;\n",
       "    }\n",
       "</style>\n",
       "<table border=\"1\" class=\"dataframe\">\n",
       "  <thead>\n",
       "    <tr style=\"text-align: right;\">\n",
       "      <th></th>\n",
       "      <th>CHROM</th>\n",
       "      <th>max_range_pi</th>\n",
       "      <th>min_range_pi</th>\n",
       "      <th>max_num_vars_pi</th>\n",
       "      <th>min_num_vars_pi</th>\n",
       "      <th>stage</th>\n",
       "    </tr>\n",
       "  </thead>\n",
       "  <tbody>\n",
       "    <tr>\n",
       "      <th>0</th>\n",
       "      <td>20</td>\n",
       "      <td>2057927</td>\n",
       "      <td>104</td>\n",
       "      <td>12</td>\n",
       "      <td>3</td>\n",
       "      <td>initial</td>\n",
       "    </tr>\n",
       "    <tr>\n",
       "      <th>1</th>\n",
       "      <td>20</td>\n",
       "      <td>4386983</td>\n",
       "      <td>753</td>\n",
       "      <td>237</td>\n",
       "      <td>3</td>\n",
       "      <td>iteration01</td>\n",
       "    </tr>\n",
       "    <tr>\n",
       "      <th>3</th>\n",
       "      <td>20</td>\n",
       "      <td>3442116</td>\n",
       "      <td>1290</td>\n",
       "      <td>232</td>\n",
       "      <td>3</td>\n",
       "      <td>iteration02</td>\n",
       "    </tr>\n",
       "  </tbody>\n",
       "</table>\n",
       "</div>"
      ],
      "text/plain": [
       "   CHROM  max_range_pi  min_range_pi  max_num_vars_pi  min_num_vars_pi  \\\n",
       "0     20       2057927           104               12                3   \n",
       "1     20       4386983           753              237                3   \n",
       "3     20       3442116          1290              232                3   \n",
       "\n",
       "         stage  \n",
       "0      initial  \n",
       "1  iteration01  \n",
       "3  iteration02  "
      ]
     },
     "execution_count": 28,
     "metadata": {},
     "output_type": "execute_result"
    }
   ],
   "source": [
    "get_merged_metrices(merged,)\n"
   ]
  },
  {
   "cell_type": "code",
   "execution_count": null,
   "metadata": {},
   "outputs": [],
   "source": []
  }
 ],
 "metadata": {
  "interpreter": {
   "hash": "76fecdcc5948a122d6459e2081f75ede80f8418a8099f56ea59c608eb267b4e7"
  },
  "kernelspec": {
   "display_name": "Python 3.10.2 ('.env': venv)",
   "language": "python",
   "name": "python3"
  },
  "language_info": {
   "codemirror_mode": {
    "name": "ipython",
    "version": 3
   },
   "file_extension": ".py",
   "mimetype": "text/x-python",
   "name": "python",
   "nbconvert_exporter": "python",
   "pygments_lexer": "ipython3",
   "version": "3.10.2"
  },
  "orig_nbformat": 4
 },
 "nbformat": 4,
 "nbformat_minor": 2
}
